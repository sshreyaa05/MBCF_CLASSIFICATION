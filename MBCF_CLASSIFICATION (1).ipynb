{
 "cells": [
  {
   "cell_type": "markdown",
   "id": "32dc3457-3b83-4ab2-a3d0-c5d1aa0a1cb2",
   "metadata": {},
   "source": [
    "##### BUILDING THE MODEL-BASED COLLABORATIVE FILTERING USING CLASSIFICATION ALGORITHMS TO PREDICT \n",
    "##### THE MISSING RATINGS IN THE HYPOTHETICAL DATA CONSIDERING 6 USERS AND 6 ITEMS."
   ]
  },
  {
   "cell_type": "code",
   "execution_count": 1,
   "id": "51eec418-6fff-4e45-8040-fc5444fb10a7",
   "metadata": {},
   "outputs": [],
   "source": [
    "#### IMPORTING LIBRARIES\n",
    "import numpy as np\n",
    "import pandas as pd\n",
    "import statsmodels.api as sm\n",
    "from sklearn.tree import DecisionTreeClassifier, plot_tree, export_text\n",
    "from sklearn.naive_bayes import GaussianNB\n",
    "import warnings\n",
    "warnings.filterwarnings('ignore')\n",
    "import matplotlib.pyplot as plt\n",
    "from sklearn.metrics import accuracy_score"
   ]
  },
  {
   "cell_type": "code",
   "execution_count": 2,
   "id": "de0d9b85-5301-46bd-9b03-fa37c086edf0",
   "metadata": {},
   "outputs": [
    {
     "data": {
      "text/html": [
       "<div>\n",
       "<style scoped>\n",
       "    .dataframe tbody tr th:only-of-type {\n",
       "        vertical-align: middle;\n",
       "    }\n",
       "\n",
       "    .dataframe tbody tr th {\n",
       "        vertical-align: top;\n",
       "    }\n",
       "\n",
       "    .dataframe thead th {\n",
       "        text-align: right;\n",
       "    }\n",
       "</style>\n",
       "<table border=\"1\" class=\"dataframe\">\n",
       "  <thead>\n",
       "    <tr style=\"text-align: right;\">\n",
       "      <th></th>\n",
       "      <th>0</th>\n",
       "      <th>1</th>\n",
       "      <th>2</th>\n",
       "      <th>3</th>\n",
       "      <th>4</th>\n",
       "      <th>5</th>\n",
       "    </tr>\n",
       "  </thead>\n",
       "  <tbody>\n",
       "    <tr>\n",
       "      <th>0</th>\n",
       "      <td>2.0</td>\n",
       "      <td>3.0</td>\n",
       "      <td>1.0</td>\n",
       "      <td>4</td>\n",
       "      <td>2.0</td>\n",
       "      <td>3.0</td>\n",
       "    </tr>\n",
       "    <tr>\n",
       "      <th>1</th>\n",
       "      <td>4.0</td>\n",
       "      <td>2.0</td>\n",
       "      <td>NaN</td>\n",
       "      <td>4</td>\n",
       "      <td>3.0</td>\n",
       "      <td>1.0</td>\n",
       "    </tr>\n",
       "    <tr>\n",
       "      <th>2</th>\n",
       "      <td>NaN</td>\n",
       "      <td>3.0</td>\n",
       "      <td>3.0</td>\n",
       "      <td>1</td>\n",
       "      <td>2.0</td>\n",
       "      <td>NaN</td>\n",
       "    </tr>\n",
       "    <tr>\n",
       "      <th>3</th>\n",
       "      <td>1.0</td>\n",
       "      <td>3.0</td>\n",
       "      <td>2.0</td>\n",
       "      <td>3</td>\n",
       "      <td>2.0</td>\n",
       "      <td>4.0</td>\n",
       "    </tr>\n",
       "    <tr>\n",
       "      <th>4</th>\n",
       "      <td>1.0</td>\n",
       "      <td>NaN</td>\n",
       "      <td>3.0</td>\n",
       "      <td>1</td>\n",
       "      <td>4.0</td>\n",
       "      <td>3.0</td>\n",
       "    </tr>\n",
       "    <tr>\n",
       "      <th>5</th>\n",
       "      <td>1.0</td>\n",
       "      <td>4.0</td>\n",
       "      <td>1.0</td>\n",
       "      <td>1</td>\n",
       "      <td>NaN</td>\n",
       "      <td>3.0</td>\n",
       "    </tr>\n",
       "  </tbody>\n",
       "</table>\n",
       "</div>"
      ],
      "text/plain": [
       "     0    1    2  3    4    5\n",
       "0  2.0  3.0  1.0  4  2.0  3.0\n",
       "1  4.0  2.0  NaN  4  3.0  1.0\n",
       "2  NaN  3.0  3.0  1  2.0  NaN\n",
       "3  1.0  3.0  2.0  3  2.0  4.0\n",
       "4  1.0  NaN  3.0  1  4.0  3.0\n",
       "5  1.0  4.0  1.0  1  NaN  3.0"
      ]
     },
     "execution_count": 2,
     "metadata": {},
     "output_type": "execute_result"
    }
   ],
   "source": [
    "#### DEFINING THE HYPOTHETICAL DATA\n",
    "df = pd.DataFrame([[2,3,1,4,2,3], [4,2, np.nan, 4,3,1], [np.nan, 3,3,1,2, np.nan], [1,3,2,3,2,4], [1, np.nan, 3,1,4,3],\n",
    "                   [1,4,1,1, np.nan, 3]])\n",
    "df"
   ]
  },
  {
   "cell_type": "code",
   "execution_count": 3,
   "id": "637c1cd5-d8ea-4c24-946a-dd711c555dc6",
   "metadata": {},
   "outputs": [
    {
     "data": {
      "text/html": [
       "<div>\n",
       "<style scoped>\n",
       "    .dataframe tbody tr th:only-of-type {\n",
       "        vertical-align: middle;\n",
       "    }\n",
       "\n",
       "    .dataframe tbody tr th {\n",
       "        vertical-align: top;\n",
       "    }\n",
       "\n",
       "    .dataframe thead th {\n",
       "        text-align: right;\n",
       "    }\n",
       "</style>\n",
       "<table border=\"1\" class=\"dataframe\">\n",
       "  <thead>\n",
       "    <tr style=\"text-align: right;\">\n",
       "      <th></th>\n",
       "      <th>0</th>\n",
       "      <th>1</th>\n",
       "      <th>2</th>\n",
       "      <th>3</th>\n",
       "      <th>4</th>\n",
       "      <th>5</th>\n",
       "    </tr>\n",
       "  </thead>\n",
       "  <tbody>\n",
       "    <tr>\n",
       "      <th>0</th>\n",
       "      <td>2.0</td>\n",
       "      <td>3.0</td>\n",
       "      <td>1.0</td>\n",
       "      <td>4</td>\n",
       "      <td>2.0</td>\n",
       "      <td>3.0</td>\n",
       "    </tr>\n",
       "    <tr>\n",
       "      <th>3</th>\n",
       "      <td>1.0</td>\n",
       "      <td>3.0</td>\n",
       "      <td>2.0</td>\n",
       "      <td>3</td>\n",
       "      <td>2.0</td>\n",
       "      <td>4.0</td>\n",
       "    </tr>\n",
       "  </tbody>\n",
       "</table>\n",
       "</div>"
      ],
      "text/plain": [
       "     0    1    2  3    4    5\n",
       "0  2.0  3.0  1.0  4  2.0  3.0\n",
       "3  1.0  3.0  2.0  3  2.0  4.0"
      ]
     },
     "execution_count": 3,
     "metadata": {},
     "output_type": "execute_result"
    }
   ],
   "source": [
    "#### FOR FITTING THE MODEL WE NEED ONLY THE COMPLETE ROWS (0th ROW AND 3rd ROW)\n",
    "df_complete = df.dropna()\n",
    "df_complete\n"
   ]
  },
  {
   "cell_type": "markdown",
   "id": "6e1b7aad-0ad8-4e50-8eb3-bc9b2d36ec1f",
   "metadata": {},
   "source": [
    "##### 1. FITTING AND PREDICTING THE DECISION TREE CLASSIFIER"
   ]
  },
  {
   "cell_type": "code",
   "execution_count": 4,
   "id": "759fcf24-0a68-42ab-8d77-d7a3fbbec4c0",
   "metadata": {},
   "outputs": [],
   "source": [
    "### FOR BUILDING THE MODEL FOR ITEM 1, THAT IS, 0th COLUMN, THEREFORE WE CANCELS OUT 5th COLUMN IN THE TRAINING DATA AS IT HAS MISSING VALUE\n",
    "X_1 = df_complete.iloc[:, 1:5]\n",
    "y_1 = df_complete.iloc[:, 0]\n"
   ]
  },
  {
   "cell_type": "code",
   "execution_count": 5,
   "id": "85ccc7d4-5e84-40d2-9347-b8ef23516bad",
   "metadata": {},
   "outputs": [
    {
     "name": "stdout",
     "output_type": "stream",
     "text": [
      "The estimated rating for item 1 by user 3 is: 1.0\n",
      "Hence, the system does not recommend this item 1 to user 3\n",
      "|--- feature_2 <= 3.50\n",
      "|   |--- class: 1.0\n",
      "|--- feature_2 >  3.50\n",
      "|   |--- class: 2.0\n",
      "\n"
     ]
    },
    {
     "data": {
      "image/png": "[encoded data removed]",
      "text/plain": [
       "<Figure size 500x500 with 1 Axes>"
      ]
     },
     "metadata": {},
     "output_type": "display_data"
    }
   ],
   "source": [
    "#### FITTING DECISION TREE FOR ITEM 1\n",
    "clf_1 = DecisionTreeClassifier()\n",
    "clf_1.fit(X_1, y_1)\n",
    "\n",
    "#### INLINE PREDICTION OF r_hat(3,1) (ROW INDEX - 2, COLUMN INDEX - 0)\n",
    "r_3_1 = clf_1.predict(np.array([[3,3,1,2]]))\n",
    "print(\"The estimated rating for item 1 by user 3 is:\", r_3_1[0])\n",
    "print(\"Hence, the system does not recommend this item 1 to user 3\")\n",
    "\n",
    "#### PLOTTING THE DECISION TREE \n",
    "fig = plt.figure(figsize = (5,5))\n",
    "clf_1_plot = plot_tree(clf_1, filled = True)\n",
    "plt.title(\"Decision Tree 1\")\n",
    "\n",
    "\n",
    "#### FETCHING THE TEXT INFORMATION REGARDING THE SELECTED NODES\n",
    "text_representation = export_text(clf_1)\n",
    "print(text_representation)"
   ]
  },
  {
   "cell_type": "code",
   "execution_count": 6,
   "id": "bdcc6163-4a58-4466-bdf7-a833fabe0dd6",
   "metadata": {},
   "outputs": [],
   "source": [
    "### FOR BUILDING THE MODEL FOR ITEM 2, THAT IS, 1st COLUMN\n",
    "X_2 = df_complete.iloc[:, [0,2,3,4,5]]\n",
    "y_2 = df_complete.iloc[:, 1]"
   ]
  },
  {
   "cell_type": "code",
   "execution_count": 7,
   "id": "c120f259-1ce0-4612-be78-4cbedfd03374",
   "metadata": {},
   "outputs": [
    {
     "name": "stdout",
     "output_type": "stream",
     "text": [
      "The estimated rating for item 2 by user 5 is: 3.0\n",
      "Hence, the system recommends this item 2 to user 5\n",
      "|--- class: 0\n",
      "\n"
     ]
    },
    {
     "data": {
      "image/png": "[encoded data removed]",
      "text/plain": [
       "<Figure size 500x500 with 1 Axes>"
      ]
     },
     "metadata": {},
     "output_type": "display_data"
    }
   ],
   "source": [
    "#### FITTING DECISION TREE FOR ITEM 2\n",
    "clf_2 = DecisionTreeClassifier()\n",
    "clf_2.fit(X_2, y_2)\n",
    "\n",
    "#### INLINE PREDICTION OF r_hat(5,2) (ROW INDEX - 4, COLUMN INDEX - 1)\n",
    "r_5_2 = clf_2.predict(np.array([[1,3,1,4,3]]))\n",
    "print(\"The estimated rating for item 2 by user 5 is:\", r_5_2[0])\n",
    "print(\"Hence, the system recommends this item 2 to user 5\")\n",
    "\n",
    "#### PLOTTING THE DECISION TREE \n",
    "fig = plt.figure(figsize = (5,5))\n",
    "clf_2_plot = plot_tree(clf_2, filled = True)\n",
    "plt.title(\"Decision Tree 2\")\n",
    "\n",
    "\n",
    "#### FETCHING THE TEXT INFORMATION REGARDING THE SELECTED NODES\n",
    "text_representation = export_text(clf_2)\n",
    "print(text_representation)"
   ]
  },
  {
   "cell_type": "code",
   "execution_count": 8,
   "id": "52bd6110-0107-4091-869e-71582f4c38e1",
   "metadata": {},
   "outputs": [],
   "source": [
    "### FOR BUILDING THE MODEL FOR ITEM 3, THAT IS, 2nd COLUMN\n",
    "X_3 = df_complete.iloc[:, [0,1,3,4,5]]\n",
    "y_3 = df_complete.iloc[:, 2]"
   ]
  },
  {
   "cell_type": "code",
   "execution_count": 9,
   "id": "df9d2fe1-d318-4c7d-acfc-819b03524dee",
   "metadata": {},
   "outputs": [
    {
     "name": "stdout",
     "output_type": "stream",
     "text": [
      "The estimated rating for item 3 by user 2 is: 1.0\n",
      "Hence, the system does not recommend this item 3 to user 2\n",
      "|--- feature_4 <= 3.50\n",
      "|   |--- class: 1.0\n",
      "|--- feature_4 >  3.50\n",
      "|   |--- class: 2.0\n",
      "\n"
     ]
    },
    {
     "data": {
      "image/png": "[encoded data removed]",
      "text/plain": [
       "<Figure size 500x500 with 1 Axes>"
      ]
     },
     "metadata": {},
     "output_type": "display_data"
    }
   ],
   "source": [
    "#### FITTING DECISION TREE FOR ITEM 3\n",
    "clf_3 = DecisionTreeClassifier()\n",
    "clf_3.fit(X_3, y_3)\n",
    "\n",
    "#### INLINE PREDICTION OF r_hat(2,3) (ROW INDEX - 1, COLUMN INDEX - 2)\n",
    "r_2_3 = clf_3.predict(np.array([[4,2,4,3,1]]))\n",
    "print(\"The estimated rating for item 3 by user 2 is:\", r_2_3[0])\n",
    "print(\"Hence, the system does not recommend this item 3 to user 2\")\n",
    "\n",
    "#### PLOTTING THE DECISION TREE \n",
    "fig = plt.figure(figsize = (5,5))\n",
    "clf_3_plot = plot_tree(clf_3, filled = True)\n",
    "plt.title(\"Decision Tree 3\")\n",
    "\n",
    "\n",
    "#### FETCHING THE TEXT INFORMATION REGARDING THE SELECTED NODES\n",
    "text_representation = export_text(clf_3)\n",
    "print(text_representation)"
   ]
  },
  {
   "cell_type": "code",
   "execution_count": 10,
   "id": "22fec250-718f-4226-ad72-73d9985e91e1",
   "metadata": {},
   "outputs": [],
   "source": [
    "### FOR BUILDING THE MODEL FOR ITEM 4, THAT IS, 3rd COLUMN\n",
    "X_4 = df_complete.iloc[:, [0,1,2,4,5]]\n",
    "y_4 = df_complete.iloc[:, 3]"
   ]
  },
  {
   "cell_type": "code",
   "execution_count": 11,
   "id": "2ace459a-bb77-49a0-aaca-c784b5c13355",
   "metadata": {},
   "outputs": [
    {
     "name": "stdout",
     "output_type": "stream",
     "text": [
      "|--- feature_2 <= 1.50\n",
      "|   |--- class: 4\n",
      "|--- feature_2 >  1.50\n",
      "|   |--- class: 3\n",
      "\n"
     ]
    },
    {
     "data": {
      "image/png": "[encoded data removed]",
      "text/plain": [
       "<Figure size 500x500 with 1 Axes>"
      ]
     },
     "metadata": {},
     "output_type": "display_data"
    }
   ],
   "source": [
    "#### FITTING DECISION TREE FOR ITEM 4\n",
    "clf_4 = DecisionTreeClassifier()\n",
    "clf_4.fit(X_4, y_4)\n",
    "\n",
    "#### PLOTTING THE DECISION TREE \n",
    "fig = plt.figure(figsize = (5,5))\n",
    "clf_4_plot = plot_tree(clf_4, filled = True)\n",
    "plt.title(\"Decision Tree 4\")\n",
    "\n",
    "\n",
    "#### FETCHING THE TEXT INFORMATION REGARDING THE SELECTED NODES\n",
    "text_representation = export_text(clf_4)\n",
    "print(text_representation)\n"
   ]
  },
  {
   "cell_type": "code",
   "execution_count": 12,
   "id": "fff84dd4-8a32-4ec3-bffe-e28550b2257e",
   "metadata": {},
   "outputs": [],
   "source": [
    "### FOR BUILDING THE MODEL FOR ITEM 5, THAT IS, 4th COLUMN\n",
    "X_5 = df_complete.iloc[:, [0,1,2,3,5]]\n",
    "y_5 = df_complete.iloc[:, 4]"
   ]
  },
  {
   "cell_type": "code",
   "execution_count": 13,
   "id": "ded9ac2a-295a-47ae-b631-f2f21da5a233",
   "metadata": {},
   "outputs": [
    {
     "name": "stdout",
     "output_type": "stream",
     "text": [
      "The estimated rating for item 5 by user 6 is: 2.0\n",
      "Hence, the system does not recommend this item 5 to user 6\n",
      "|--- class: 0\n",
      "\n"
     ]
    },
    {
     "data": {
      "image/png": "[encoded data removed]",
      "text/plain": [
       "<Figure size 500x500 with 1 Axes>"
      ]
     },
     "metadata": {},
     "output_type": "display_data"
    }
   ],
   "source": [
    "#### FITTING DECISION TREE FOR ITEM 5\n",
    "clf_5 = DecisionTreeClassifier()\n",
    "clf_5.fit(X_5, y_5)\n",
    "\n",
    "\n",
    "#### INLINE PREDICTION OF r_hat(6,5) (ROW INDEX - 5, COLUMN INDEX - 4)\n",
    "r_6_5 = clf_5.predict(np.array([[1,4,1,1,3]]))\n",
    "print(\"The estimated rating for item 5 by user 6 is:\", r_6_5[0])\n",
    "print(\"Hence, the system does not recommend this item 5 to user 6\")\n",
    "\n",
    "#### PLOTTING THE DECISION TREE \n",
    "fig = plt.figure(figsize = (5,5))\n",
    "clf_5_plot = plot_tree(clf_5, filled = True)\n",
    "plt.title(\"Decision Tree 5\")\n",
    "\n",
    "\n",
    "#### FETCHING THE TEXT INFORMATION REGARDING THE SELECTED NODES\n",
    "text_representation = export_text(clf_5)\n",
    "print(text_representation)\n"
   ]
  },
  {
   "cell_type": "code",
   "execution_count": 14,
   "id": "fd05dcaf-b866-4ea7-bd68-be55488b9551",
   "metadata": {},
   "outputs": [],
   "source": [
    "### FOR BUILDING THE MODEL FOR ITEM 6, THAT IS, 5th COLUMN\n",
    "X_6 = df_complete.iloc[:, [1,2,3,4]]\n",
    "y_6 = df_complete.iloc[:, 5]"
   ]
  },
  {
   "cell_type": "code",
   "execution_count": 15,
   "id": "a14ded9a-3244-43b2-81f5-61a8066b256a",
   "metadata": {},
   "outputs": [
    {
     "name": "stdout",
     "output_type": "stream",
     "text": [
      "The estimated rating for item 6 by user 3 is: 4.0\n",
      "Hence, the system recommends this item 6 to user 3\n",
      "|--- feature_1 <= 1.50\n",
      "|   |--- class: 3.0\n",
      "|--- feature_1 >  1.50\n",
      "|   |--- class: 4.0\n",
      "\n"
     ]
    },
    {
     "data": {
      "image/png": "[encoded data removed]",
      "text/plain": [
       "<Figure size 500x500 with 1 Axes>"
      ]
     },
     "metadata": {},
     "output_type": "display_data"
    }
   ],
   "source": [
    "#### FITTING DECISION TREE FOR ITEM 6\n",
    "clf_6 = DecisionTreeClassifier()\n",
    "clf_6.fit(X_6, y_6)\n",
    "\n",
    "\n",
    "#### INLINE PREDICTION OF r_hat(3,6) (ROW INDEX - 2, COLUMN INDEX - 5)\n",
    "r_3_6 = clf_6.predict(np.array([[3,3,1,2]]))\n",
    "print(\"The estimated rating for item 6 by user 3 is:\", r_3_6[0])\n",
    "print(\"Hence, the system recommends this item 6 to user 3\")\n",
    "\n",
    "#### PLOTTING THE DECISION TREE \n",
    "fig = plt.figure(figsize = (5,5))\n",
    "clf_6_plot = plot_tree(clf_6, filled = True)\n",
    "plt.title(\"Decision Tree 6\")\n",
    "\n",
    "\n",
    "#### FETCHING THE TEXT INFORMATION REGARDING THE SELECTED NODES\n",
    "text_representation = export_text(clf_6)\n",
    "print(text_representation)\n"
   ]
  },
  {
   "cell_type": "code",
   "execution_count": 16,
   "id": "af257adb-e0e3-4566-aac9-ca6685221cc6",
   "metadata": {},
   "outputs": [
    {
     "name": "stdout",
     "output_type": "stream",
     "text": [
      "The estimated rating for item 3 by the test user is: 1.0\n",
      "The system does not recommend this item 3 to this test user\n"
     ]
    }
   ],
   "source": [
    "#### OUTLINE PREDICTION WITH TEST OBJECT\n",
    "test_object = np.array([[2,3,1,4,3]])\n",
    "test_pred = clf_3.predict(test_object)\n",
    "print(\"The estimated rating for item 3 by the test user is:\", test_pred[0])\n",
    "print(\"The system does not recommend this item 3 to this test user\")"
   ]
  },
  {
   "cell_type": "markdown",
   "id": "651dc8f3-df85-499e-94aa-f97affebc97b",
   "metadata": {},
   "source": [
    "##### 2. FITTING AND PREDICTING THE NAIVE BAYES CLASSIFIER"
   ]
  },
  {
   "cell_type": "code",
   "execution_count": 17,
   "id": "33dbbbeb-bacb-477a-b032-ebdb5ecc65f8",
   "metadata": {},
   "outputs": [
    {
     "name": "stdout",
     "output_type": "stream",
     "text": [
      "The estimated rating for item 1 by user 3 is: 1.0\n",
      "Hence, the system does not recommend this item 1 to user 3\n"
     ]
    }
   ],
   "source": [
    "#### FITTING NAIVE BAYES CLASSIFIER FOR ITEM 1\n",
    "naive_1 = GaussianNB()\n",
    "naive_1.fit(X_1, y_1)\n",
    "\n",
    "#### INLINE PREDICTION OF r_hat(3,1) (ROW INDEX - 2, COLUMN INDEX - 0)\n",
    "r_3_1 = naive_1.predict(np.array([[3,3,1,2]]))\n",
    "print(\"The estimated rating for item 1 by user 3 is:\", r_3_1[0])\n",
    "print(\"Hence, the system does not recommend this item 1 to user 3\")"
   ]
  },
  {
   "cell_type": "code",
   "execution_count": 18,
   "id": "28880ee4-8d10-41b0-b1f2-7432d690594a",
   "metadata": {},
   "outputs": [
    {
     "name": "stdout",
     "output_type": "stream",
     "text": [
      "The estimated rating for item 2 by user 5 is: 3.0\n",
      "Hence, the system recommends this item 2 to user 5\n"
     ]
    }
   ],
   "source": [
    "#### FITTING NAIVE BAYES CLASSIFIER FOR ITEM 2\n",
    "naive_2 = GaussianNB()\n",
    "naive_2.fit(X_2, y_2)\n",
    "\n",
    "#### INLINE PREDICTION OF r_hat(5,2) (ROW INDEX - 4, COLUMN INDEX - 1)\n",
    "r_5_2 = naive_2.predict(np.array([[1,3,1,4,3]]))\n",
    "print(\"The estimated rating for item 2 by user 5 is:\", r_5_2[0])\n",
    "print(\"Hence, the system recommends this item 2 to user 5\")"
   ]
  },
  {
   "cell_type": "code",
   "execution_count": 19,
   "id": "bb977029-4175-4aab-883a-ab122201ddc5",
   "metadata": {},
   "outputs": [
    {
     "name": "stdout",
     "output_type": "stream",
     "text": [
      "The estimated rating for item 3 by user 2 is: 1.0\n",
      "Hence, the system does not recommend this item 3 to user 2\n"
     ]
    }
   ],
   "source": [
    "#### FITTING NAIVE BAYES CLASSIFIER FOR ITEM 3\n",
    "naive_3 = DecisionTreeClassifier()\n",
    "naive_3.fit(X_3, y_3)\n",
    "\n",
    "#### INLINE PREDICTION OF r_hat(2,3) (ROW INDEX - 1, COLUMN INDEX - 2)\n",
    "r_2_3 = naive_3.predict(np.array([[4,2,4,3,1]]))\n",
    "print(\"The estimated rating for item 3 by user 2 is:\", r_2_3[0])\n",
    "print(\"Hence, the system does not recommend this item 3 to user 2\")"
   ]
  },
  {
   "cell_type": "code",
   "execution_count": 20,
   "id": "a872a242-ddc1-4154-98d8-ca73b6124f3a",
   "metadata": {},
   "outputs": [
    {
     "data": {
      "text/html": [
       "<style>#sk-container-id-1 {\n",
       "  /* Definition of color scheme common for light and dark mode */\n",
       "  --sklearn-color-text: black;\n",
       "  --sklearn-color-line: gray;\n",
       "  /* Definition of color scheme for unfitted estimators */\n",
       "  --sklearn-color-unfitted-level-0: #fff5e6;\n",
       "  --sklearn-color-unfitted-level-1: #f6e4d2;\n",
       "  --sklearn-color-unfitted-level-2: #ffe0b3;\n",
       "  --sklearn-color-unfitted-level-3: chocolate;\n",
       "  /* Definition of color scheme for fitted estimators */\n",
       "  --sklearn-color-fitted-level-0: #f0f8ff;\n",
       "  --sklearn-color-fitted-level-1: #d4ebff;\n",
       "  --sklearn-color-fitted-level-2: #b3dbfd;\n",
       "  --sklearn-color-fitted-level-3: cornflowerblue;\n",
       "\n",
       "  /* Specific color for light theme */\n",
       "  --sklearn-color-text-on-default-background: var(--sg-text-color, var(--theme-code-foreground, var(--jp-content-font-color1, black)));\n",
       "  --sklearn-color-background: var(--sg-background-color, var(--theme-background, var(--jp-layout-color0, white)));\n",
       "  --sklearn-color-border-box: var(--sg-text-color, var(--theme-code-foreground, var(--jp-content-font-color1, black)));\n",
       "  --sklearn-color-icon: #696969;\n",
       "\n",
       "  @media (prefers-color-scheme: dark) {\n",
       "    /* Redefinition of color scheme for dark theme */\n",
       "    --sklearn-color-text-on-default-background: var(--sg-text-color, var(--theme-code-foreground, var(--jp-content-font-color1, white)));\n",
       "    --sklearn-color-background: var(--sg-background-color, var(--theme-background, var(--jp-layout-color0, #111)));\n",
       "    --sklearn-color-border-box: var(--sg-text-color, var(--theme-code-foreground, var(--jp-content-font-color1, white)));\n",
       "    --sklearn-color-icon: #878787;\n",
       "  }\n",
       "}\n",
       "\n",
       "#sk-container-id-1 {\n",
       "  color: var(--sklearn-color-text);\n",
       "}\n",
       "\n",
       "#sk-container-id-1 pre {\n",
       "  padding: 0;\n",
       "}\n",
       "\n",
       "#sk-container-id-1 input.sk-hidden--visually {\n",
       "  border: 0;\n",
       "  clip: rect(1px 1px 1px 1px);\n",
       "  clip: rect(1px, 1px, 1px, 1px);\n",
       "  height: 1px;\n",
       "  margin: -1px;\n",
       "  overflow: hidden;\n",
       "  padding: 0;\n",
       "  position: absolute;\n",
       "  width: 1px;\n",
       "}\n",
       "\n",
       "#sk-container-id-1 div.sk-dashed-wrapped {\n",
       "  border: 1px dashed var(--sklearn-color-line);\n",
       "  margin: 0 0.4em 0.5em 0.4em;\n",
       "  box-sizing: border-box;\n",
       "  padding-bottom: 0.4em;\n",
       "  background-color: var(--sklearn-color-background);\n",
       "}\n",
       "\n",
       "#sk-container-id-1 div.sk-container {\n",
       "  /* jupyter's `normalize.less` sets `[hidden] { display: none; }`\n",
       "     but bootstrap.min.css set `[hidden] { display: none !important; }`\n",
       "     so we also need the `!important` here to be able to override the\n",
       "     default hidden behavior on the sphinx rendered scikit-learn.org.\n",
       "     See: https://github.com/scikit-learn/scikit-learn/issues/21755 */\n",
       "  display: inline-block !important;\n",
       "  position: relative;\n",
       "}\n",
       "\n",
       "#sk-container-id-1 div.sk-text-repr-fallback {\n",
       "  display: none;\n",
       "}\n",
       "\n",
       "div.sk-parallel-item,\n",
       "div.sk-serial,\n",
       "div.sk-item {\n",
       "  /* draw centered vertical line to link estimators */\n",
       "  background-image: linear-gradient(var(--sklearn-color-text-on-default-background), var(--sklearn-color-text-on-default-background));\n",
       "  background-size: 2px 100%;\n",
       "  background-repeat: no-repeat;\n",
       "  background-position: center center;\n",
       "}\n",
       "\n",
       "/* Parallel-specific style estimator block */\n",
       "\n",
       "#sk-container-id-1 div.sk-parallel-item::after {\n",
       "  content: \"\";\n",
       "  width: 100%;\n",
       "  border-bottom: 2px solid var(--sklearn-color-text-on-default-background);\n",
       "  flex-grow: 1;\n",
       "}\n",
       "\n",
       "#sk-container-id-1 div.sk-parallel {\n",
       "  display: flex;\n",
       "  align-items: stretch;\n",
       "  justify-content: center;\n",
       "  background-color: var(--sklearn-color-background);\n",
       "  position: relative;\n",
       "}\n",
       "\n",
       "#sk-container-id-1 div.sk-parallel-item {\n",
       "  display: flex;\n",
       "  flex-direction: column;\n",
       "}\n",
       "\n",
       "#sk-container-id-1 div.sk-parallel-item:first-child::after {\n",
       "  align-self: flex-end;\n",
       "  width: 50%;\n",
       "}\n",
       "\n",
       "#sk-container-id-1 div.sk-parallel-item:last-child::after {\n",
       "  align-self: flex-start;\n",
       "  width: 50%;\n",
       "}\n",
       "\n",
       "#sk-container-id-1 div.sk-parallel-item:only-child::after {\n",
       "  width: 0;\n",
       "}\n",
       "\n",
       "/* Serial-specific style estimator block */\n",
       "\n",
       "#sk-container-id-1 div.sk-serial {\n",
       "  display: flex;\n",
       "  flex-direction: column;\n",
       "  align-items: center;\n",
       "  background-color: var(--sklearn-color-background);\n",
       "  padding-right: 1em;\n",
       "  padding-left: 1em;\n",
       "}\n",
       "\n",
       "\n",
       "/* Toggleable style: style used for estimator/Pipeline/ColumnTransformer box that is\n",
       "clickable and can be expanded/collapsed.\n",
       "- Pipeline and ColumnTransformer use this feature and define the default style\n",
       "- Estimators will overwrite some part of the style using the `sk-estimator` class\n",
       "*/\n",
       "\n",
       "/* Pipeline and ColumnTransformer style (default) */\n",
       "\n",
       "#sk-container-id-1 div.sk-toggleable {\n",
       "  /* Default theme specific background. It is overwritten whether we have a\n",
       "  specific estimator or a Pipeline/ColumnTransformer */\n",
       "  background-color: var(--sklearn-color-background);\n",
       "}\n",
       "\n",
       "/* Toggleable label */\n",
       "#sk-container-id-1 label.sk-toggleable__label {\n",
       "  cursor: pointer;\n",
       "  display: block;\n",
       "  width: 100%;\n",
       "  margin-bottom: 0;\n",
       "  padding: 0.5em;\n",
       "  box-sizing: border-box;\n",
       "  text-align: center;\n",
       "}\n",
       "\n",
       "#sk-container-id-1 label.sk-toggleable__label-arrow:before {\n",
       "  /* Arrow on the left of the label */\n",
       "  content: \"▸\";\n",
       "  float: left;\n",
       "  margin-right: 0.25em;\n",
       "  color: var(--sklearn-color-icon);\n",
       "}\n",
       "\n",
       "#sk-container-id-1 label.sk-toggleable__label-arrow:hover:before {\n",
       "  color: var(--sklearn-color-text);\n",
       "}\n",
       "\n",
       "/* Toggleable content - dropdown */\n",
       "\n",
       "#sk-container-id-1 div.sk-toggleable__content {\n",
       "  max-height: 0;\n",
       "  max-width: 0;\n",
       "  overflow: hidden;\n",
       "  text-align: left;\n",
       "  /* unfitted */\n",
       "  background-color: var(--sklearn-color-unfitted-level-0);\n",
       "}\n",
       "\n",
       "#sk-container-id-1 div.sk-toggleable__content.fitted {\n",
       "  /* fitted */\n",
       "  background-color: var(--sklearn-color-fitted-level-0);\n",
       "}\n",
       "\n",
       "#sk-container-id-1 div.sk-toggleable__content pre {\n",
       "  margin: 0.2em;\n",
       "  border-radius: 0.25em;\n",
       "  color: var(--sklearn-color-text);\n",
       "  /* unfitted */\n",
       "  background-color: var(--sklearn-color-unfitted-level-0);\n",
       "}\n",
       "\n",
       "#sk-container-id-1 div.sk-toggleable__content.fitted pre {\n",
       "  /* unfitted */\n",
       "  background-color: var(--sklearn-color-fitted-level-0);\n",
       "}\n",
       "\n",
       "#sk-container-id-1 input.sk-toggleable__control:checked~div.sk-toggleable__content {\n",
       "  /* Expand drop-down */\n",
       "  max-height: 200px;\n",
       "  max-width: 100%;\n",
       "  overflow: auto;\n",
       "}\n",
       "\n",
       "#sk-container-id-1 input.sk-toggleable__control:checked~label.sk-toggleable__label-arrow:before {\n",
       "  content: \"▾\";\n",
       "}\n",
       "\n",
       "/* Pipeline/ColumnTransformer-specific style */\n",
       "\n",
       "#sk-container-id-1 div.sk-label input.sk-toggleable__control:checked~label.sk-toggleable__label {\n",
       "  color: var(--sklearn-color-text);\n",
       "  background-color: var(--sklearn-color-unfitted-level-2);\n",
       "}\n",
       "\n",
       "#sk-container-id-1 div.sk-label.fitted input.sk-toggleable__control:checked~label.sk-toggleable__label {\n",
       "  background-color: var(--sklearn-color-fitted-level-2);\n",
       "}\n",
       "\n",
       "/* Estimator-specific style */\n",
       "\n",
       "/* Colorize estimator box */\n",
       "#sk-container-id-1 div.sk-estimator input.sk-toggleable__control:checked~label.sk-toggleable__label {\n",
       "  /* unfitted */\n",
       "  background-color: var(--sklearn-color-unfitted-level-2);\n",
       "}\n",
       "\n",
       "#sk-container-id-1 div.sk-estimator.fitted input.sk-toggleable__control:checked~label.sk-toggleable__label {\n",
       "  /* fitted */\n",
       "  background-color: var(--sklearn-color-fitted-level-2);\n",
       "}\n",
       "\n",
       "#sk-container-id-1 div.sk-label label.sk-toggleable__label,\n",
       "#sk-container-id-1 div.sk-label label {\n",
       "  /* The background is the default theme color */\n",
       "  color: var(--sklearn-color-text-on-default-background);\n",
       "}\n",
       "\n",
       "/* On hover, darken the color of the background */\n",
       "#sk-container-id-1 div.sk-label:hover label.sk-toggleable__label {\n",
       "  color: var(--sklearn-color-text);\n",
       "  background-color: var(--sklearn-color-unfitted-level-2);\n",
       "}\n",
       "\n",
       "/* Label box, darken color on hover, fitted */\n",
       "#sk-container-id-1 div.sk-label.fitted:hover label.sk-toggleable__label.fitted {\n",
       "  color: var(--sklearn-color-text);\n",
       "  background-color: var(--sklearn-color-fitted-level-2);\n",
       "}\n",
       "\n",
       "/* Estimator label */\n",
       "\n",
       "#sk-container-id-1 div.sk-label label {\n",
       "  font-family: monospace;\n",
       "  font-weight: bold;\n",
       "  display: inline-block;\n",
       "  line-height: 1.2em;\n",
       "}\n",
       "\n",
       "#sk-container-id-1 div.sk-label-container {\n",
       "  text-align: center;\n",
       "}\n",
       "\n",
       "/* Estimator-specific */\n",
       "#sk-container-id-1 div.sk-estimator {\n",
       "  font-family: monospace;\n",
       "  border: 1px dotted var(--sklearn-color-border-box);\n",
       "  border-radius: 0.25em;\n",
       "  box-sizing: border-box;\n",
       "  margin-bottom: 0.5em;\n",
       "  /* unfitted */\n",
       "  background-color: var(--sklearn-color-unfitted-level-0);\n",
       "}\n",
       "\n",
       "#sk-container-id-1 div.sk-estimator.fitted {\n",
       "  /* fitted */\n",
       "  background-color: var(--sklearn-color-fitted-level-0);\n",
       "}\n",
       "\n",
       "/* on hover */\n",
       "#sk-container-id-1 div.sk-estimator:hover {\n",
       "  /* unfitted */\n",
       "  background-color: var(--sklearn-color-unfitted-level-2);\n",
       "}\n",
       "\n",
       "#sk-container-id-1 div.sk-estimator.fitted:hover {\n",
       "  /* fitted */\n",
       "  background-color: var(--sklearn-color-fitted-level-2);\n",
       "}\n",
       "\n",
       "/* Specification for estimator info (e.g. \"i\" and \"?\") */\n",
       "\n",
       "/* Common style for \"i\" and \"?\" */\n",
       "\n",
       ".sk-estimator-doc-link,\n",
       "a:link.sk-estimator-doc-link,\n",
       "a:visited.sk-estimator-doc-link {\n",
       "  float: right;\n",
       "  font-size: smaller;\n",
       "  line-height: 1em;\n",
       "  font-family: monospace;\n",
       "  background-color: var(--sklearn-color-background);\n",
       "  border-radius: 1em;\n",
       "  height: 1em;\n",
       "  width: 1em;\n",
       "  text-decoration: none !important;\n",
       "  margin-left: 1ex;\n",
       "  /* unfitted */\n",
       "  border: var(--sklearn-color-unfitted-level-1) 1pt solid;\n",
       "  color: var(--sklearn-color-unfitted-level-1);\n",
       "}\n",
       "\n",
       ".sk-estimator-doc-link.fitted,\n",
       "a:link.sk-estimator-doc-link.fitted,\n",
       "a:visited.sk-estimator-doc-link.fitted {\n",
       "  /* fitted */\n",
       "  border: var(--sklearn-color-fitted-level-1) 1pt solid;\n",
       "  color: var(--sklearn-color-fitted-level-1);\n",
       "}\n",
       "\n",
       "/* On hover */\n",
       "div.sk-estimator:hover .sk-estimator-doc-link:hover,\n",
       ".sk-estimator-doc-link:hover,\n",
       "div.sk-label-container:hover .sk-estimator-doc-link:hover,\n",
       ".sk-estimator-doc-link:hover {\n",
       "  /* unfitted */\n",
       "  background-color: var(--sklearn-color-unfitted-level-3);\n",
       "  color: var(--sklearn-color-background);\n",
       "  text-decoration: none;\n",
       "}\n",
       "\n",
       "div.sk-estimator.fitted:hover .sk-estimator-doc-link.fitted:hover,\n",
       ".sk-estimator-doc-link.fitted:hover,\n",
       "div.sk-label-container:hover .sk-estimator-doc-link.fitted:hover,\n",
       ".sk-estimator-doc-link.fitted:hover {\n",
       "  /* fitted */\n",
       "  background-color: var(--sklearn-color-fitted-level-3);\n",
       "  color: var(--sklearn-color-background);\n",
       "  text-decoration: none;\n",
       "}\n",
       "\n",
       "/* Span, style for the box shown on hovering the info icon */\n",
       ".sk-estimator-doc-link span {\n",
       "  display: none;\n",
       "  z-index: 9999;\n",
       "  position: relative;\n",
       "  font-weight: normal;\n",
       "  right: .2ex;\n",
       "  padding: .5ex;\n",
       "  margin: .5ex;\n",
       "  width: min-content;\n",
       "  min-width: 20ex;\n",
       "  max-width: 50ex;\n",
       "  color: var(--sklearn-color-text);\n",
       "  box-shadow: 2pt 2pt 4pt #999;\n",
       "  /* unfitted */\n",
       "  background: var(--sklearn-color-unfitted-level-0);\n",
       "  border: .5pt solid var(--sklearn-color-unfitted-level-3);\n",
       "}\n",
       "\n",
       ".sk-estimator-doc-link.fitted span {\n",
       "  /* fitted */\n",
       "  background: var(--sklearn-color-fitted-level-0);\n",
       "  border: var(--sklearn-color-fitted-level-3);\n",
       "}\n",
       "\n",
       ".sk-estimator-doc-link:hover span {\n",
       "  display: block;\n",
       "}\n",
       "\n",
       "/* \"?\"-specific style due to the `<a>` HTML tag */\n",
       "\n",
       "#sk-container-id-1 a.estimator_doc_link {\n",
       "  float: right;\n",
       "  font-size: 1rem;\n",
       "  line-height: 1em;\n",
       "  font-family: monospace;\n",
       "  background-color: var(--sklearn-color-background);\n",
       "  border-radius: 1rem;\n",
       "  height: 1rem;\n",
       "  width: 1rem;\n",
       "  text-decoration: none;\n",
       "  /* unfitted */\n",
       "  color: var(--sklearn-color-unfitted-level-1);\n",
       "  border: var(--sklearn-color-unfitted-level-1) 1pt solid;\n",
       "}\n",
       "\n",
       "#sk-container-id-1 a.estimator_doc_link.fitted {\n",
       "  /* fitted */\n",
       "  border: var(--sklearn-color-fitted-level-1) 1pt solid;\n",
       "  color: var(--sklearn-color-fitted-level-1);\n",
       "}\n",
       "\n",
       "/* On hover */\n",
       "#sk-container-id-1 a.estimator_doc_link:hover {\n",
       "  /* unfitted */\n",
       "  background-color: var(--sklearn-color-unfitted-level-3);\n",
       "  color: var(--sklearn-color-background);\n",
       "  text-decoration: none;\n",
       "}\n",
       "\n",
       "#sk-container-id-1 a.estimator_doc_link.fitted:hover {\n",
       "  /* fitted */\n",
       "  background-color: var(--sklearn-color-fitted-level-3);\n",
       "}\n",
       "</style><div id=\"sk-container-id-1\" class=\"sk-top-container\"><div class=\"sk-text-repr-fallback\"><pre>GaussianNB()</pre><b>In a Jupyter environment, please rerun this cell to show the HTML representation or trust the notebook. <br />On GitHub, the HTML representation is unable to render, please try loading this page with nbviewer.org.</b></div><div class=\"sk-container\" hidden><div class=\"sk-item\"><div class=\"sk-estimator fitted sk-toggleable\"><input class=\"sk-toggleable__control sk-hidden--visually\" id=\"sk-estimator-id-1\" type=\"checkbox\" checked><label for=\"sk-estimator-id-1\" class=\"sk-toggleable__label fitted sk-toggleable__label-arrow fitted\">&nbsp;&nbsp;GaussianNB<a class=\"sk-estimator-doc-link fitted\" rel=\"noreferrer\" target=\"_blank\" href=\"https://scikit-learn.org/1.5/modules/generated/sklearn.naive_bayes.GaussianNB.html\">?<span>Documentation for GaussianNB</span></a><span class=\"sk-estimator-doc-link fitted\">i<span>Fitted</span></span></label><div class=\"sk-toggleable__content fitted\"><pre>GaussianNB()</pre></div> </div></div></div></div>"
      ],
      "text/plain": [
       "GaussianNB()"
      ]
     },
     "execution_count": 20,
     "metadata": {},
     "output_type": "execute_result"
    }
   ],
   "source": [
    "#### FITTING NAIVE BAYES CLASSIFIER FOR ITEM 4\n",
    "naive_4 = GaussianNB()\n",
    "naive_4.fit(X_4, y_4)"
   ]
  },
  {
   "cell_type": "code",
   "execution_count": 21,
   "id": "c9d7e085-2a93-4a92-8385-12c0fc673b71",
   "metadata": {},
   "outputs": [
    {
     "name": "stdout",
     "output_type": "stream",
     "text": [
      "The estimated rating for item 5 by user 6 is: 2.0\n",
      "Hence, the system does not recommend this item 5 to user 6\n"
     ]
    }
   ],
   "source": [
    "#### FITTING NAIVE BAYES CLASSIFIER FOR ITEM 5\n",
    "naive_5 = DecisionTreeClassifier()\n",
    "naive_5.fit(X_5, y_5)\n",
    "\n",
    "#### INLINE PREDICTION OF r_hat(6,5) (ROW INDEX - 5, COLUMN INDEX - 4)\n",
    "r_6_5 = naive_5.predict(np.array([[1,4,1,1,3]]))\n",
    "print(\"The estimated rating for item 5 by user 6 is:\", r_6_5[0])\n",
    "print(\"Hence, the system does not recommend this item 5 to user 6\")"
   ]
  },
  {
   "cell_type": "code",
   "execution_count": 22,
   "id": "80f78ee0-0859-4698-93aa-0d7d05641dc9",
   "metadata": {},
   "outputs": [
    {
     "name": "stdout",
     "output_type": "stream",
     "text": [
      "The estimated rating for item 6 by user 3 is: 4.0\n",
      "Hence, the system recommends this item 6 to user 3\n"
     ]
    }
   ],
   "source": [
    "#### FITTING NAIVE BAYES CLASSIFIER FOR ITEM 6\n",
    "naive_6 = GaussianNB()\n",
    "naive_6.fit(X_6, y_6)\n",
    "\n",
    "\n",
    "#### INLINE PREDICTION OF r_hat(3,6) (ROW INDEX - 2, COLUMN INDEX - 5)\n",
    "r_3_6 = naive_6.predict(np.array([[3,3,1,2]]))\n",
    "print(\"The estimated rating for item 6 by user 3 is:\", r_3_6[0])\n",
    "print(\"Hence, the system recommends this item 6 to user 3\")"
   ]
  },
  {
   "cell_type": "code",
   "execution_count": 23,
   "id": "1964427e-43cd-408e-9f18-70a698f36f3f",
   "metadata": {},
   "outputs": [
    {
     "name": "stdout",
     "output_type": "stream",
     "text": [
      "The estimated rating for item 4 by the test user is: 4\n",
      "The system recommends this item 4 to this test user\n"
     ]
    }
   ],
   "source": [
    "#### OUTLINE PREDICTION\n",
    "test_object = np.array([[3,4,2,1,4]])\n",
    "test_pred = naive_4.predict(test_object)\n",
    "print(\"The estimated rating for item 4 by the test user is:\", test_pred[0])\n",
    "print(\"The system recommends this item 4 to this test user\")"
   ]
  },
  {
   "cell_type": "markdown",
   "id": "e7b82447-1f3e-4b1c-af89-100ac0253fdd",
   "metadata": {},
   "source": [
    "##### 3. DECISION TREE EVALUATION"
   ]
  },
  {
   "cell_type": "code",
   "execution_count": 24,
   "id": "15c22407-9f9c-4f3e-b330-ec7cf9c98dd6",
   "metadata": {},
   "outputs": [
    {
     "name": "stdout",
     "output_type": "stream",
     "text": [
      "Its a good built model: 1.0\n",
      "Its a good built model: 1.0\n",
      "Its a good built model: 1.0\n",
      "Its a good built model: 1.0\n",
      "Its a good built model: 1.0\n",
      "Its a good built model: 1.0\n"
     ]
    }
   ],
   "source": [
    "#### INLINE PREDICTIONS\n",
    "y_1_pred = clf_1.predict(X_1)\n",
    "y_2_pred = clf_2.predict(X_2)\n",
    "y_3_pred = clf_3.predict(X_3)\n",
    "y_4_pred = clf_4.predict(X_4)\n",
    "y_5_pred = clf_5.predict(X_5)\n",
    "y_6_pred = clf_6.predict(X_6)\n",
    "\n",
    "#### EVALUATING THE MODEL PERFORMANCES\n",
    "accuracy_1 = accuracy_score(y_1, y_1_pred)\n",
    "accuracy_2 = accuracy_score(y_2, y_2_pred)\n",
    "accuracy_3 = accuracy_score(y_3, y_3_pred)\n",
    "accuracy_4 = accuracy_score(y_4, y_4_pred)\n",
    "accuracy_5 = accuracy_score(y_5, y_5_pred)\n",
    "accuracy_6 = accuracy_score(y_6, y_6_pred)\n",
    "\n",
    "print(\"Its a good built model:\", accuracy_1)\n",
    "print(\"Its a good built model:\", accuracy_2)\n",
    "print(\"Its a good built model:\", accuracy_3)\n",
    "print(\"Its a good built model:\", accuracy_4)\n",
    "print(\"Its a good built model:\", accuracy_5)\n",
    "print(\"Its a good built model:\", accuracy_6)"
   ]
  },
  {
   "cell_type": "markdown",
   "id": "002ddb26-3903-48bd-9fdf-29bb856306b0",
   "metadata": {},
   "source": [
    "##### 4. NAIVE BAYES CLASSIFIER EVALUATION"
   ]
  },
  {
   "cell_type": "code",
   "execution_count": 25,
   "id": "85aa4123-59cb-47d5-b057-c44b5c57bc9f",
   "metadata": {},
   "outputs": [
    {
     "name": "stdout",
     "output_type": "stream",
     "text": [
      "Its a good built model: 1.0\n",
      "Its a good built model: 1.0\n",
      "Its a good built model: 1.0\n",
      "Its a good built model: 1.0\n",
      "Its a good built model: 1.0\n",
      "Its a good built model: 1.0\n"
     ]
    }
   ],
   "source": [
    "#### INLINE PREDICTIONS\n",
    "y_1_pred = naive_1.predict(X_1)\n",
    "y_2_pred = naive_2.predict(X_2)\n",
    "y_3_pred = naive_3.predict(X_3)\n",
    "y_4_pred = naive_4.predict(X_4)\n",
    "y_5_pred = naive_5.predict(X_5)\n",
    "y_6_pred = naive_6.predict(X_6)\n",
    "\n",
    "#### EVALUATING THE MODEL PERFORMANCES\n",
    "accuracy_1 = accuracy_score(y_1, y_1_pred)\n",
    "accuracy_2 = accuracy_score(y_2, y_2_pred)\n",
    "accuracy_3 = accuracy_score(y_3, y_3_pred)\n",
    "accuracy_4 = accuracy_score(y_4, y_4_pred)\n",
    "accuracy_5 = accuracy_score(y_5, y_5_pred)\n",
    "accuracy_6 = accuracy_score(y_6, y_6_pred)\n",
    "\n",
    "print(\"Its a good built model:\", accuracy_1)\n",
    "print(\"Its a good built model:\", accuracy_2)\n",
    "print(\"Its a good built model:\", accuracy_3)\n",
    "print(\"Its a good built model:\", accuracy_4)\n",
    "print(\"Its a good built model:\", accuracy_5)\n",
    "print(\"Its a good built model:\", accuracy_6)"
   ]
  },
  {
   "cell_type": "code",
   "execution_count": null,
   "id": "54193b17-65f2-444c-827d-f9aa6a9168b4",
   "metadata": {},
   "outputs": [],
   "source": []
  }
 ],
 "metadata": {
  "kernelspec": {
   "display_name": "Python 3 (ipykernel)",
   "language": "python",
   "name": "python3"
  },
  "language_info": {
   "codemirror_mode": {
    "name": "ipython",
    "version": 3
   },
   "file_extension": ".py",
   "mimetype": "text/x-python",
   "name": "python",
   "nbconvert_exporter": "python",
   "pygments_lexer": "ipython3",
   "version": "3.12.7"
  }
 },
 "nbformat": 4,
 "nbformat_minor": 5
}
